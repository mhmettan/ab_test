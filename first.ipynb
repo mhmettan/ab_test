{
 "cells": [
  {
   "cell_type": "markdown",
   "metadata": {},
   "source": [
    "Facebook recently introduced a new bidding type, “average bidding”, as an alternative to its\n",
    "exisiting bidding type, called “maximum bidding”. One of our clients, bombabomba.com, has\n",
    "decided to test this new feature and wants to conduct an A/B test to understand if average\n",
    "bidding brings more conversions than maximum bidding.\n",
    "In this A/B test, bombabomba.com randomly splits its audience into two equally sized\n",
    "groups, e.g. the test and the control group. A Facebook ad campaign with “maximum\n",
    "bidding” is served to “control group” and another campaign with “average bidding” is served\n",
    "to the “test group”.\n",
    "\n",
    "The null hypothesis here is this: \n",
    "There isn't a meaningful statistical difference between average and maximum bidding for the number of purchase \n",
    "\n",
    "If this hypothesis is false it can be inferred that average bidding increases the number of purchase"
   ]
  },
  {
   "cell_type": "code",
   "execution_count": 1,
   "metadata": {},
   "outputs": [],
   "source": [
    "# 2 SAMPLE INDEPENDENT T-TEST (AB TEST)\n",
    "\n",
    "# HYPOTHESIS\n",
    "# H0: There isn't a meaningful statistical difference between average and maximum bidding for the number of purchase \n",
    "# H1: ... there is a meaningful statitistical difference"
   ]
  },
  {
   "cell_type": "code",
   "execution_count": 2,
   "metadata": {},
   "outputs": [],
   "source": [
    "import numpy as np\n",
    "import pandas as pd\n",
    "import statsmodels.stats.api as sms\n",
    "import scipy.stats as stats\n",
    "from scipy.stats import shapiro\n",
    "from statsmodels.stats.proportion import proportions_ztest\n",
    "\n",
    "\n",
    "control = pd.read_excel(\"ab_testing_data.xlsx\", sheet_name=\"Control Group\")\n",
    "test = pd.read_excel(\"ab_testing_data.xlsx\", sheet_name=\"Test Group\")"
   ]
  },
  {
   "cell_type": "code",
   "execution_count": 3,
   "metadata": {},
   "outputs": [
    {
     "data": {
      "text/html": [
       "<div>\n",
       "<style scoped>\n",
       "    .dataframe tbody tr th:only-of-type {\n",
       "        vertical-align: middle;\n",
       "    }\n",
       "\n",
       "    .dataframe tbody tr th {\n",
       "        vertical-align: top;\n",
       "    }\n",
       "\n",
       "    .dataframe thead th {\n",
       "        text-align: right;\n",
       "    }\n",
       "</style>\n",
       "<table border=\"1\" class=\"dataframe\">\n",
       "  <thead>\n",
       "    <tr style=\"text-align: right;\">\n",
       "      <th></th>\n",
       "      <th>Impression</th>\n",
       "      <th>Click</th>\n",
       "      <th>Purchase</th>\n",
       "      <th>Earning</th>\n",
       "    </tr>\n",
       "  </thead>\n",
       "  <tbody>\n",
       "    <tr>\n",
       "      <th>0</th>\n",
       "      <td>82529.459271</td>\n",
       "      <td>6090.077317</td>\n",
       "      <td>665.211255</td>\n",
       "      <td>2311.277143</td>\n",
       "    </tr>\n",
       "    <tr>\n",
       "      <th>1</th>\n",
       "      <td>98050.451926</td>\n",
       "      <td>3382.861786</td>\n",
       "      <td>315.084895</td>\n",
       "      <td>1742.806855</td>\n",
       "    </tr>\n",
       "    <tr>\n",
       "      <th>2</th>\n",
       "      <td>82696.023549</td>\n",
       "      <td>4167.965750</td>\n",
       "      <td>458.083738</td>\n",
       "      <td>1797.827447</td>\n",
       "    </tr>\n",
       "    <tr>\n",
       "      <th>3</th>\n",
       "      <td>109914.400398</td>\n",
       "      <td>4910.882240</td>\n",
       "      <td>487.090773</td>\n",
       "      <td>1696.229178</td>\n",
       "    </tr>\n",
       "    <tr>\n",
       "      <th>4</th>\n",
       "      <td>108457.762630</td>\n",
       "      <td>5987.655811</td>\n",
       "      <td>441.034050</td>\n",
       "      <td>1543.720179</td>\n",
       "    </tr>\n",
       "  </tbody>\n",
       "</table>\n",
       "</div>"
      ],
      "text/plain": [
       "      Impression        Click    Purchase      Earning\n",
       "0   82529.459271  6090.077317  665.211255  2311.277143\n",
       "1   98050.451926  3382.861786  315.084895  1742.806855\n",
       "2   82696.023549  4167.965750  458.083738  1797.827447\n",
       "3  109914.400398  4910.882240  487.090773  1696.229178\n",
       "4  108457.762630  5987.655811  441.034050  1543.720179"
      ]
     },
     "execution_count": 3,
     "metadata": {},
     "output_type": "execute_result"
    }
   ],
   "source": [
    "control.head()"
   ]
  },
  {
   "cell_type": "code",
   "execution_count": 4,
   "metadata": {},
   "outputs": [
    {
     "data": {
      "text/html": [
       "<div>\n",
       "<style scoped>\n",
       "    .dataframe tbody tr th:only-of-type {\n",
       "        vertical-align: middle;\n",
       "    }\n",
       "\n",
       "    .dataframe tbody tr th {\n",
       "        vertical-align: top;\n",
       "    }\n",
       "\n",
       "    .dataframe thead th {\n",
       "        text-align: right;\n",
       "    }\n",
       "</style>\n",
       "<table border=\"1\" class=\"dataframe\">\n",
       "  <thead>\n",
       "    <tr style=\"text-align: right;\">\n",
       "      <th></th>\n",
       "      <th>Impression</th>\n",
       "      <th>Click</th>\n",
       "      <th>Purchase</th>\n",
       "      <th>Earning</th>\n",
       "    </tr>\n",
       "  </thead>\n",
       "  <tbody>\n",
       "    <tr>\n",
       "      <th>0</th>\n",
       "      <td>120103.503796</td>\n",
       "      <td>3216.547958</td>\n",
       "      <td>702.160346</td>\n",
       "      <td>1939.611243</td>\n",
       "    </tr>\n",
       "    <tr>\n",
       "      <th>1</th>\n",
       "      <td>134775.943363</td>\n",
       "      <td>3635.082422</td>\n",
       "      <td>834.054286</td>\n",
       "      <td>2929.405820</td>\n",
       "    </tr>\n",
       "    <tr>\n",
       "      <th>2</th>\n",
       "      <td>107806.620788</td>\n",
       "      <td>3057.143560</td>\n",
       "      <td>422.934258</td>\n",
       "      <td>2526.244877</td>\n",
       "    </tr>\n",
       "    <tr>\n",
       "      <th>3</th>\n",
       "      <td>116445.275526</td>\n",
       "      <td>4650.473911</td>\n",
       "      <td>429.033535</td>\n",
       "      <td>2281.428574</td>\n",
       "    </tr>\n",
       "    <tr>\n",
       "      <th>4</th>\n",
       "      <td>145082.516838</td>\n",
       "      <td>5201.387724</td>\n",
       "      <td>749.860442</td>\n",
       "      <td>2781.697521</td>\n",
       "    </tr>\n",
       "  </tbody>\n",
       "</table>\n",
       "</div>"
      ],
      "text/plain": [
       "      Impression        Click    Purchase      Earning\n",
       "0  120103.503796  3216.547958  702.160346  1939.611243\n",
       "1  134775.943363  3635.082422  834.054286  2929.405820\n",
       "2  107806.620788  3057.143560  422.934258  2526.244877\n",
       "3  116445.275526  4650.473911  429.033535  2281.428574\n",
       "4  145082.516838  5201.387724  749.860442  2781.697521"
      ]
     },
     "execution_count": 4,
     "metadata": {},
     "output_type": "execute_result"
    }
   ],
   "source": [
    "test.head()"
   ]
  },
  {
   "cell_type": "code",
   "execution_count": 5,
   "metadata": {},
   "outputs": [],
   "source": [
    "# Since we are interested in the number of purchases, we are going to create dataframes that have only purchase variable.\n",
    "purc_control = control[['Purchase']]\n",
    "purc_test = test[['Purchase']]"
   ]
  },
  {
   "cell_type": "code",
   "execution_count": 6,
   "metadata": {},
   "outputs": [
    {
     "data": {
      "text/plain": [
       "pandas.core.frame.DataFrame"
      ]
     },
     "execution_count": 6,
     "metadata": {},
     "output_type": "execute_result"
    }
   ],
   "source": [
    "type(purc_test)"
   ]
  },
  {
   "cell_type": "code",
   "execution_count": 7,
   "metadata": {},
   "outputs": [
    {
     "data": {
      "text/html": [
       "<div>\n",
       "<style scoped>\n",
       "    .dataframe tbody tr th:only-of-type {\n",
       "        vertical-align: middle;\n",
       "    }\n",
       "\n",
       "    .dataframe tbody tr th {\n",
       "        vertical-align: top;\n",
       "    }\n",
       "\n",
       "    .dataframe thead th {\n",
       "        text-align: right;\n",
       "    }\n",
       "</style>\n",
       "<table border=\"1\" class=\"dataframe\">\n",
       "  <thead>\n",
       "    <tr style=\"text-align: right;\">\n",
       "      <th></th>\n",
       "      <th>Purchase</th>\n",
       "    </tr>\n",
       "  </thead>\n",
       "  <tbody>\n",
       "    <tr>\n",
       "      <th>0</th>\n",
       "      <td>702.160346</td>\n",
       "    </tr>\n",
       "    <tr>\n",
       "      <th>1</th>\n",
       "      <td>834.054286</td>\n",
       "    </tr>\n",
       "    <tr>\n",
       "      <th>2</th>\n",
       "      <td>422.934258</td>\n",
       "    </tr>\n",
       "    <tr>\n",
       "      <th>3</th>\n",
       "      <td>429.033535</td>\n",
       "    </tr>\n",
       "    <tr>\n",
       "      <th>4</th>\n",
       "      <td>749.860442</td>\n",
       "    </tr>\n",
       "  </tbody>\n",
       "</table>\n",
       "</div>"
      ],
      "text/plain": [
       "     Purchase\n",
       "0  702.160346\n",
       "1  834.054286\n",
       "2  422.934258\n",
       "3  429.033535\n",
       "4  749.860442"
      ]
     },
     "execution_count": 7,
     "metadata": {},
     "output_type": "execute_result"
    }
   ],
   "source": [
    "purc_test.head()"
   ]
  },
  {
   "cell_type": "code",
   "execution_count": 8,
   "metadata": {},
   "outputs": [
    {
     "data": {
      "text/plain": [
       "[]"
      ]
     },
     "execution_count": 8,
     "metadata": {},
     "output_type": "execute_result"
    }
   ],
   "source": [
    "# It will be checked if there are outliers in the purchase dataframes for control and test groups.\n",
    "# Outlier functions which were written during previous classes are used. \n",
    "\n",
    "def outlier_thresholds(dataframe, variable):\n",
    "    quartile1 = dataframe[variable].quantile(0.25)\n",
    "    quartile3 = dataframe[variable].quantile(0.75)\n",
    "    interquantile_range = quartile3 - quartile1\n",
    "    up_limit = quartile3 + 1.5 * interquantile_range\n",
    "    low_limit = quartile1 - 1.5 * interquantile_range\n",
    "    return low_limit, up_limit\n",
    "\n",
    "\n",
    "def has_outliers(dataframe, num_col_names, plot=False):\n",
    "    variable_names = []\n",
    "    for col in num_col_names:\n",
    "        low_limit, up_limit = outlier_thresholds(dataframe, col)\n",
    "        if dataframe[(dataframe[col] > up_limit) | (dataframe[col] < low_limit)].any(axis=None):\n",
    "            number_of_outliers = dataframe[(dataframe[col] > up_limit) | (dataframe[col] < low_limit)].shape[0]\n",
    "            print(col, \":\", number_of_outliers)\n",
    "            variable_names.append(col)\n",
    "            if plot:\n",
    "                sns.boxplot(x=dataframe[col])\n",
    "                plt.show()\n",
    "    return variable_names\n",
    "\n",
    "def replace_with_thresholds(dataframe, variable):\n",
    "    low_limit, up_limit = outlier_thresholds(dataframe, variable)\n",
    "    dataframe.loc[(dataframe[variable] < low_limit), variable] = low_limit\n",
    "    dataframe.loc[(dataframe[variable] > up_limit), variable] = up_limit\n",
    "\n",
    "has_outliers(purc_control, [\"Purchase\"])"
   ]
  },
  {
   "cell_type": "code",
   "execution_count": 9,
   "metadata": {},
   "outputs": [
    {
     "data": {
      "text/plain": [
       "[]"
      ]
     },
     "execution_count": 9,
     "metadata": {},
     "output_type": "execute_result"
    }
   ],
   "source": [
    "has_outliers(purc_test, [\"Purchase\"])"
   ]
  },
  {
   "cell_type": "code",
   "execution_count": 10,
   "metadata": {},
   "outputs": [
    {
     "data": {
      "text/plain": [
       "'Purchase'"
      ]
     },
     "execution_count": 10,
     "metadata": {},
     "output_type": "execute_result"
    }
   ],
   "source": [
    "purc_test.columns[0]"
   ]
  },
  {
   "cell_type": "code",
   "execution_count": 11,
   "metadata": {},
   "outputs": [
    {
     "data": {
      "text/plain": [
       "[]"
      ]
     },
     "execution_count": 11,
     "metadata": {},
     "output_type": "execute_result"
    }
   ],
   "source": [
    "has_outliers(purc_test, purc_test.columns)"
   ]
  },
  {
   "cell_type": "code",
   "execution_count": 12,
   "metadata": {},
   "outputs": [
    {
     "data": {
      "text/html": [
       "<div>\n",
       "<style scoped>\n",
       "    .dataframe tbody tr th:only-of-type {\n",
       "        vertical-align: middle;\n",
       "    }\n",
       "\n",
       "    .dataframe tbody tr th {\n",
       "        vertical-align: top;\n",
       "    }\n",
       "\n",
       "    .dataframe thead th {\n",
       "        text-align: right;\n",
       "    }\n",
       "</style>\n",
       "<table border=\"1\" class=\"dataframe\">\n",
       "  <thead>\n",
       "    <tr style=\"text-align: right;\">\n",
       "      <th></th>\n",
       "      <th>Control</th>\n",
       "      <th>Test</th>\n",
       "    </tr>\n",
       "  </thead>\n",
       "  <tbody>\n",
       "    <tr>\n",
       "      <th>0</th>\n",
       "      <td>665.211255</td>\n",
       "      <td>702.160346</td>\n",
       "    </tr>\n",
       "    <tr>\n",
       "      <th>1</th>\n",
       "      <td>315.084895</td>\n",
       "      <td>834.054286</td>\n",
       "    </tr>\n",
       "    <tr>\n",
       "      <th>2</th>\n",
       "      <td>458.083738</td>\n",
       "      <td>422.934258</td>\n",
       "    </tr>\n",
       "    <tr>\n",
       "      <th>3</th>\n",
       "      <td>487.090773</td>\n",
       "      <td>429.033535</td>\n",
       "    </tr>\n",
       "    <tr>\n",
       "      <th>4</th>\n",
       "      <td>441.034050</td>\n",
       "      <td>749.860442</td>\n",
       "    </tr>\n",
       "  </tbody>\n",
       "</table>\n",
       "</div>"
      ],
      "text/plain": [
       "      Control        Test\n",
       "0  665.211255  702.160346\n",
       "1  315.084895  834.054286\n",
       "2  458.083738  422.934258\n",
       "3  487.090773  429.033535\n",
       "4  441.034050  749.860442"
      ]
     },
     "execution_count": 12,
     "metadata": {},
     "output_type": "execute_result"
    }
   ],
   "source": [
    "# There aren't any outliers.\n",
    "# The two dataframes are combined with concat method as seen below.\n",
    "df = pd.concat([purc_control, purc_test], axis=1)\n",
    "df.columns = [\"Control\", \"Test\"]\n",
    "df.head()"
   ]
  },
  {
   "cell_type": "code",
   "execution_count": 13,
   "metadata": {},
   "outputs": [
    {
     "name": "stdout",
     "output_type": "stream",
     "text": [
      "T calculation statistics for Shapiro-Wilks Test: 0.9772694110870361\n",
      "Calculated p-value for Shapiro-Wilks Test: 0.5891125202178955\n",
      "The distribution is normal.\n"
     ]
    }
   ],
   "source": [
    "# Normal Distribution Assumption - Shapiro-Wilks Test\n",
    "# H0: there is no statistical meaningful difference between the sample and the theoretical normal distributions.\n",
    "# H1: ...there is a difference\n",
    "\n",
    "def shapiro_test(data_frame):\n",
    "    sh = shapiro(data_frame)\n",
    "    print(\"T calculation statistics for Shapiro-Wilks Test: \" + str(sh[0]))\n",
    "    print(\"Calculated p-value for Shapiro-Wilks Test: \" + str(sh[1]))\n",
    "    if sh[1] > 0.05:\n",
    "        print(\"The distribution is normal.\")\n",
    "    else:\n",
    "        print(\"The distribution is not normal.\")\n",
    "\n",
    "# For the control data:\n",
    "shapiro_test(purc_control)"
   ]
  },
  {
   "cell_type": "code",
   "execution_count": 14,
   "metadata": {},
   "outputs": [
    {
     "name": "stdout",
     "output_type": "stream",
     "text": [
      "T calculation statistics for Shapiro-Wilks Test: 0.9589452147483826\n",
      "Calculated p-value for Shapiro-Wilks Test: 0.15413185954093933\n",
      "The distribution is normal.\n"
     ]
    }
   ],
   "source": [
    "# For the test data:\n",
    "shapiro_test(purc_test)"
   ]
  },
  {
   "cell_type": "code",
   "execution_count": 15,
   "metadata": {},
   "outputs": [
    {
     "name": "stdout",
     "output_type": "stream",
     "text": [
      "T calculation statistics for Levene Test Test 2.6392694728747363\n",
      "Calculated p-value for Levene Test: 0.10828588271874791\n",
      "Variances are homogenous.\n"
     ]
    }
   ],
   "source": [
    "# Varience homogeneity assumption - Levene Test\n",
    "# H0: variances are homogenous\n",
    "# H1: variances are not homogenous\n",
    "\n",
    "def levene_test(df1, df2):\n",
    "    lh = stats.levene(df1, df2)\n",
    "    print(\"T calculation statistics for Levene Test Test \" + str(lh[0]))\n",
    "    print(\"Calculated p-value for Levene Test: \" + str(lh[1]))\n",
    "    if lh[1] > 0.05:\n",
    "        print(\"Variances are homogenous.\")\n",
    "    else:\n",
    "        print(\"Variances are not homogenous.\")\n",
    "\n",
    "levene_test(purc_control[\"Purchase\"], purc_test[\"Purchase\"])"
   ]
  },
  {
   "cell_type": "code",
   "execution_count": 16,
   "metadata": {},
   "outputs": [
    {
     "name": "stdout",
     "output_type": "stream",
     "text": [
      "Test statistics = -0.9416, p-value = 0.3493\n",
      "Hypothesis is accepted.\n"
     ]
    }
   ],
   "source": [
    "# Calculation of p-value for 2 SAMPLE INDEPENDENT T-TEST (AB TEST)\n",
    "test_stat, pvalue = stats.ttest_ind(df[\"Control\"], df[\"Test\"], equal_var=True)\n",
    "# Since the varience homogeneity test is satisfied equal_var is returned as True\n",
    "print('Test statistics = %.4f, p-value = %.4f' % (test_stat, pvalue))\n",
    "if pvalue < 0.05:\n",
    "    print(\"Hypothesis is rejected.\")\n",
    "else:\n",
    "    print(\"Hypothesis is accepted.\")\n"
   ]
  },
  {
   "cell_type": "markdown",
   "metadata": {},
   "source": [
    "As a result there isn't a meaningful statistical difference between average and maximum bidding in terms of number of purchases. "
   ]
  },
  {
   "cell_type": "code",
   "execution_count": 17,
   "metadata": {},
   "outputs": [
    {
     "name": "stdout",
     "output_type": "stream",
     "text": [
      "Website average click through rate in maximum bidding: 5.36 %\n",
      "Website average click through rate in average bidding: 3.42 %\n"
     ]
    }
   ],
   "source": [
    "#click/impression - Conversion Rate\n",
    "print(f\"Website average click through rate in maximum bidding: {round((control.Click / control.Impression).mean()*100, 2)} %\")\n",
    "print(f\"Website average click through rate in average bidding: {round((test.Click / test.Impression).mean()*100, 2)} %\")"
   ]
  },
  {
   "cell_type": "code",
   "execution_count": 18,
   "metadata": {},
   "outputs": [],
   "source": [
    "# Number of total impression and clicks are created in the form of arrays for control and test groups.\n",
    "number_of_impressions = np.array([control.Impression.sum(), test.Impression.sum()])\n",
    "number_of_clicks = np.array([control.Click.sum(), test.Click.sum()])"
   ]
  },
  {
   "cell_type": "code",
   "execution_count": 19,
   "metadata": {},
   "outputs": [
    {
     "data": {
      "text/plain": [
       "array([4068457.96270789, 4820496.47030138])"
      ]
     },
     "execution_count": 19,
     "metadata": {},
     "output_type": "execute_result"
    }
   ],
   "source": [
    "number_of_impressions"
   ]
  },
  {
   "cell_type": "code",
   "execution_count": 20,
   "metadata": {},
   "outputs": [
    {
     "data": {
      "text/plain": [
       "array([204026.29490309, 158701.99043224])"
      ]
     },
     "execution_count": 20,
     "metadata": {},
     "output_type": "execute_result"
    }
   ],
   "source": [
    "number_of_clicks"
   ]
  },
  {
   "cell_type": "code",
   "execution_count": 21,
   "metadata": {},
   "outputs": [
    {
     "name": "stdout",
     "output_type": "stream",
     "text": [
      "Hypothesis is rejected.\n"
     ]
    }
   ],
   "source": [
    "# Conversion rate for this problem equals to click / impression \n",
    "# H0: there is no statistical meaningful difference between the conversion rates of test and control data\n",
    "# H1: ...there is a difference\n",
    "test_stat, pvalue = proportions_ztest(count=number_of_clicks, nobs=number_of_impressions)\n",
    "if pvalue < 0.05:\n",
    "    print(\"Hypothesis is rejected.\")\n",
    "else:\n",
    "    print(\"Hypothesis is accepted.\")\n"
   ]
  },
  {
   "cell_type": "markdown",
   "metadata": {},
   "source": [
    "As a result there is a meaningful statistical difference between website click through rates of test and control data.\n",
    "Despite the fact that maximum bidding gives greater conversion rate in terms of purchase, statistically there is no difference and this brings lower cost per clicks. "
   ]
  },
  {
   "cell_type": "code",
   "execution_count": 22,
   "metadata": {},
   "outputs": [],
   "source": [
    "# Let's create a function to automate the ab test process.\n",
    "\n",
    "def ab_test(df1, df2):\n",
    "    # Outlier check and if there are outliers, replace them with upper or lower thresholds:\n",
    "    a = has_outliers(df1, df1.columns)\n",
    "    b = has_outliers(df2, df2.columns)\n",
    "    if a == []:\n",
    "        print(\"Control dataframe has no outliers.\")\n",
    "        pass\n",
    "    else:\n",
    "        replace_with_thresholds(df1, df1.columns[0])\n",
    "        print(\"Control dataframe has outliers and outliers has been replaced with upper or lower thresholds.\")\n",
    "    if b == []:\n",
    "        print(\"Test dataframe has no outliers.\")\n",
    "        pass\n",
    "    else:\n",
    "        replace_with_thresholds(df2, df2.columns[0])\n",
    "        print(\"Test dataframe has outliers and outliers has been replaced with upper or lower thresholds.\")\n",
    "        \n",
    "    sh1 = shapiro(df1)\n",
    "    sh2 = shapiro(df2)\n",
    "    if sh1[1] > 0.05 and sh2[1] > 0.05:\n",
    "        head1 = df1.columns[0]\n",
    "        head2 = df2.columns[0]\n",
    "        lh = stats.levene(df1[head1], df2[head2])\n",
    "        if lh[1] > 0.05:\n",
    "            test_stat, pvalue = stats.ttest_ind(df1, df2, equal_var=True)\n",
    "            if pvalue < 0.05:\n",
    "                print(\"Hypothesis is rejected.\")\n",
    "            else:\n",
    "                print(\"Hypothesis is accepted.\")\n",
    "        else:\n",
    "            test_stat, pvalue = stats.ttest_ind(df1, df2, equal_var=False)\n",
    "            if pvalue < 0.05:\n",
    "                print(\"Hypothesis is rejected.\")\n",
    "            else:\n",
    "                print(\"Hypothesis is accepted.\")\n",
    "    else:\n",
    "        test_stat, pvalue = stats.mannwhitneyu(df1, df2)\n",
    "        if pvalue < 0.05:\n",
    "            print(\"Hypothesis is rejected.\")\n",
    "        else:\n",
    "            print(\"Hypothesis is accepted.\")"
   ]
  },
  {
   "cell_type": "code",
   "execution_count": 23,
   "metadata": {},
   "outputs": [
    {
     "name": "stdout",
     "output_type": "stream",
     "text": [
      "Mean value of earning for control group: 1908.568299802749\n",
      "Mean value of earning for test group: 2514.8907326506173\n"
     ]
    }
   ],
   "source": [
    "# Lastly we are going to compare the earnings between the two datasets. \n",
    "# Total and mean values of earning are calculated as seen below:\n",
    "\n",
    "print(\"Mean value of earning for control group: \" + str(control[\"Earning\"].mean()))\n",
    "print(\"Mean value of earning for test group: \" + str(test[\"Earning\"].mean()))"
   ]
  },
  {
   "cell_type": "code",
   "execution_count": 24,
   "metadata": {},
   "outputs": [
    {
     "name": "stdout",
     "output_type": "stream",
     "text": [
      "Total value of earning for control group: 76342.73199210996\n",
      "Total value of earning for test group: 100595.6293060247\n"
     ]
    }
   ],
   "source": [
    "print(f\"Total value of earning for control group: {control.Earning.sum()}\")\n",
    "print(f\"Total value of earning for test group: {test.Earning.sum()}\")"
   ]
  },
  {
   "cell_type": "code",
   "execution_count": 25,
   "metadata": {},
   "outputs": [],
   "source": [
    "earn_control = control[[\"Earning\"]]\n",
    "earn_test = test[[\"Earning\"]]"
   ]
  },
  {
   "cell_type": "code",
   "execution_count": 26,
   "metadata": {},
   "outputs": [
    {
     "name": "stdout",
     "output_type": "stream",
     "text": [
      "Control dataframe has no outliers.\n",
      "Test dataframe has no outliers.\n",
      "Hypothesis is rejected.\n"
     ]
    }
   ],
   "source": [
    "# H0: there is no statistical meaningful difference between earnings of control and test data sets.\n",
    "# H1: ...there is a difference\n",
    "\n",
    "ab_test(earn_control, earn_test)"
   ]
  },
  {
   "cell_type": "markdown",
   "metadata": {},
   "source": [
    "Hypothesis is rejected. That means there is a statistical meaningful difference between the average and maximum bidding in terms of earnings. \n",
    "\n",
    "And since mathematically earning rates are better in favors of average bidding. \n",
    "\n",
    "Based on the observations we gathered above and this last earning comparison I definitely recommend average bidding.  "
   ]
  }
 ],
 "metadata": {
  "kernelspec": {
   "display_name": "Python 3",
   "language": "python",
   "name": "python3"
  },
  "language_info": {
   "codemirror_mode": {
    "name": "ipython",
    "version": 3
   },
   "file_extension": ".py",
   "mimetype": "text/x-python",
   "name": "python",
   "nbconvert_exporter": "python",
   "pygments_lexer": "ipython3",
   "version": "3.7.9"
  }
 },
 "nbformat": 4,
 "nbformat_minor": 4
}
