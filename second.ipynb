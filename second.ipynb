{
 "cells": [
  {
   "cell_type": "markdown",
   "metadata": {},
   "source": [
    "PRICING: Item fiyatı ne olmalı?\n",
    "\n",
    "Bir oyun şirketi bir oyununda kullanıcılarına item satın alımları için hediye paralar vermiştir.\n",
    "Kullanıcılar bu sanal paraları kullanarak karakterlerine çeşitli araçlar satın almaktadır.\n",
    "Oyun şirketi bir item için fiyat belirtmemiş ve kullanıcılardan bu item'ı istedikleri fiyattan almalarını sağlamış.\n",
    "Örneğin kalkan isimli item için kullanıcılar kendi uygun gördükleri miktarları ödeyerek bu kalkanı satın alacaklar.\n",
    "Örneğin bir kullanıcı kendisine verilen sanal paralardan 30 birim, diğer kullanıcı 45 birim ile ödeme yapabilir.\n",
    "Dolayısıyla kullanıcılar kendilerine göre ödemeyi göze aldıkları miktarlar ile bu item'ı satın alabilirler.\n",
    "\n",
    "Çözülmesi gereken problemler:\n",
    "1. Item'in fiyatı kategorilere göre farklılık göstermekte midir? İstatistiki olarak ifade ediniz.\n",
    "2. İlk soruya bağlı olarak item'ın fiyatı ne olmalıdır? Nedenini açıklayınız?\n",
    "3. Fiyat konusunda \"hareket edebilir olmak\" istenmektedir. Fiyat stratejisi için karar destek sistemi oluşturunuz \n",
    "4. olası fiyat değişiklikleri için item satın almalarını ve gelirlerini simüle ediniz.\n",
    "\n",
    "SENARYO 1: TUM KATEGORILER AYNI OLURSA (30-50): frekans sum * fiyat\n",
    "\n",
    "SENARYO 2: KATEGORI FIYATLARI FARKLI OLURSA? kategori frekansları * kategori fiyatı"
   ]
  },
  {
   "cell_type": "code",
   "execution_count": 1,
   "metadata": {},
   "outputs": [
    {
     "data": {
      "text/html": [
       "<div>\n",
       "<style scoped>\n",
       "    .dataframe tbody tr th:only-of-type {\n",
       "        vertical-align: middle;\n",
       "    }\n",
       "\n",
       "    .dataframe tbody tr th {\n",
       "        vertical-align: top;\n",
       "    }\n",
       "\n",
       "    .dataframe thead th {\n",
       "        text-align: right;\n",
       "    }\n",
       "</style>\n",
       "<table border=\"1\" class=\"dataframe\">\n",
       "  <thead>\n",
       "    <tr style=\"text-align: right;\">\n",
       "      <th></th>\n",
       "      <th>category_id</th>\n",
       "      <th>price</th>\n",
       "    </tr>\n",
       "  </thead>\n",
       "  <tbody>\n",
       "    <tr>\n",
       "      <th>0</th>\n",
       "      <td>489756</td>\n",
       "      <td>32.117753</td>\n",
       "    </tr>\n",
       "    <tr>\n",
       "      <th>1</th>\n",
       "      <td>361254</td>\n",
       "      <td>30.711370</td>\n",
       "    </tr>\n",
       "    <tr>\n",
       "      <th>2</th>\n",
       "      <td>361254</td>\n",
       "      <td>31.572607</td>\n",
       "    </tr>\n",
       "    <tr>\n",
       "      <th>3</th>\n",
       "      <td>489756</td>\n",
       "      <td>34.543840</td>\n",
       "    </tr>\n",
       "    <tr>\n",
       "      <th>4</th>\n",
       "      <td>489756</td>\n",
       "      <td>47.205824</td>\n",
       "    </tr>\n",
       "  </tbody>\n",
       "</table>\n",
       "</div>"
      ],
      "text/plain": [
       "   category_id      price\n",
       "0       489756  32.117753\n",
       "1       361254  30.711370\n",
       "2       361254  31.572607\n",
       "3       489756  34.543840\n",
       "4       489756  47.205824"
      ]
     },
     "execution_count": 1,
     "metadata": {},
     "output_type": "execute_result"
    }
   ],
   "source": [
    "import numpy as np\n",
    "import pandas as pd\n",
    "import statsmodels.stats.api as sms\n",
    "import scipy.stats as stats\n",
    "from scipy.stats import shapiro\n",
    "\n",
    "df = pd.read_csv(\"pricing.csv\", sep=\";\")\n",
    "df.head()"
   ]
  },
  {
   "cell_type": "code",
   "execution_count": 2,
   "metadata": {},
   "outputs": [
    {
     "data": {
      "text/plain": [
       "count      3448.000000\n",
       "mean       3254.475770\n",
       "std       25235.799009\n",
       "min          10.000000\n",
       "25%          31.890438\n",
       "50%          34.798544\n",
       "75%          41.536211\n",
       "max      201436.991255\n",
       "Name: price, dtype: float64"
      ]
     },
     "execution_count": 2,
     "metadata": {},
     "output_type": "execute_result"
    }
   ],
   "source": [
    "df[\"price\"].describe()"
   ]
  },
  {
   "cell_type": "code",
   "execution_count": 3,
   "metadata": {},
   "outputs": [
    {
     "data": {
      "text/html": [
       "<div>\n",
       "<style scoped>\n",
       "    .dataframe tbody tr th:only-of-type {\n",
       "        vertical-align: middle;\n",
       "    }\n",
       "\n",
       "    .dataframe tbody tr th {\n",
       "        vertical-align: top;\n",
       "    }\n",
       "\n",
       "    .dataframe thead tr th {\n",
       "        text-align: left;\n",
       "    }\n",
       "\n",
       "    .dataframe thead tr:last-of-type th {\n",
       "        text-align: right;\n",
       "    }\n",
       "</style>\n",
       "<table border=\"1\" class=\"dataframe\">\n",
       "  <thead>\n",
       "    <tr>\n",
       "      <th></th>\n",
       "      <th colspan=\"2\" halign=\"left\">price</th>\n",
       "    </tr>\n",
       "    <tr>\n",
       "      <th></th>\n",
       "      <th>mean</th>\n",
       "      <th>median</th>\n",
       "    </tr>\n",
       "    <tr>\n",
       "      <th>category_id</th>\n",
       "      <th></th>\n",
       "      <th></th>\n",
       "    </tr>\n",
       "  </thead>\n",
       "  <tbody>\n",
       "    <tr>\n",
       "      <th>201436</th>\n",
       "      <td>36.175498</td>\n",
       "      <td>33.534678</td>\n",
       "    </tr>\n",
       "    <tr>\n",
       "      <th>326584</th>\n",
       "      <td>1424.665182</td>\n",
       "      <td>31.748242</td>\n",
       "    </tr>\n",
       "    <tr>\n",
       "      <th>361254</th>\n",
       "      <td>1659.680663</td>\n",
       "      <td>34.459195</td>\n",
       "    </tr>\n",
       "    <tr>\n",
       "      <th>489756</th>\n",
       "      <td>3589.808526</td>\n",
       "      <td>35.635784</td>\n",
       "    </tr>\n",
       "    <tr>\n",
       "      <th>675201</th>\n",
       "      <td>3112.240362</td>\n",
       "      <td>33.835566</td>\n",
       "    </tr>\n",
       "    <tr>\n",
       "      <th>874521</th>\n",
       "      <td>4605.357258</td>\n",
       "      <td>34.400860</td>\n",
       "    </tr>\n",
       "  </tbody>\n",
       "</table>\n",
       "</div>"
      ],
      "text/plain": [
       "                   price           \n",
       "                    mean     median\n",
       "category_id                        \n",
       "201436         36.175498  33.534678\n",
       "326584       1424.665182  31.748242\n",
       "361254       1659.680663  34.459195\n",
       "489756       3589.808526  35.635784\n",
       "675201       3112.240362  33.835566\n",
       "874521       4605.357258  34.400860"
      ]
     },
     "execution_count": 3,
     "metadata": {},
     "output_type": "execute_result"
    }
   ],
   "source": [
    "df.groupby(\"category_id\").agg({\"price\": [np.mean, np.median]})"
   ]
  },
  {
   "cell_type": "code",
   "execution_count": 4,
   "metadata": {},
   "outputs": [
    {
     "data": {
      "text/plain": [
       "array([489756, 361254, 874521, 326584, 675201, 201436], dtype=int64)"
      ]
     },
     "execution_count": 4,
     "metadata": {},
     "output_type": "execute_result"
    }
   ],
   "source": [
    "category_id_list = df[\"category_id\"].unique()\n",
    "category_id_list"
   ]
  },
  {
   "cell_type": "code",
   "execution_count": 5,
   "metadata": {},
   "outputs": [],
   "source": [
    "# It will be checked if there are outliers \n",
    "# Outlier functions which were written during previous classes are used. \n",
    "\n",
    "def outlier_thresholds(dataframe, variable):\n",
    "    quartile1 = dataframe[variable].quantile(0.25)\n",
    "    quartile3 = dataframe[variable].quantile(0.75)\n",
    "    interquantile_range = quartile3 - quartile1\n",
    "    up_limit = quartile3 + 1.5 * interquantile_range\n",
    "    low_limit = quartile1 - 1.5 * interquantile_range\n",
    "    return low_limit, up_limit\n",
    "\n",
    "\n",
    "def has_outliers(dataframe, num_col_names, plot=False):\n",
    "    variable_names = []\n",
    "    for col in num_col_names:\n",
    "        low_limit, up_limit = outlier_thresholds(dataframe, col)\n",
    "        if dataframe[(dataframe[col] > up_limit) | (dataframe[col] < low_limit)].any(axis=None):\n",
    "            number_of_outliers = dataframe[(dataframe[col] > up_limit) | (dataframe[col] < low_limit)].shape[0]\n",
    "            variable_names.append(col)\n",
    "            if plot:\n",
    "                sns.boxplot(x=dataframe[col])\n",
    "                plt.show()\n",
    "    return variable_names\n",
    "\n",
    "def replace_with_thresholds(dataframe, variable):\n",
    "    low_limit, up_limit = outlier_thresholds(dataframe, variable)\n",
    "    dataframe.loc[(dataframe[variable] < low_limit), variable] = low_limit\n",
    "    dataframe.loc[(dataframe[variable] > up_limit), variable] = up_limit"
   ]
  },
  {
   "cell_type": "code",
   "execution_count": 6,
   "metadata": {},
   "outputs": [],
   "source": [
    "# A dictionary is created based on the category id's\n",
    "dic = {}\n",
    "for i in range(len(df)):\n",
    "    if f\"{df.iloc[i, 0]}\" not in dic.keys():\n",
    "        dic[f\"{df.iloc[i, 0]}\"] = [df.iloc[i, 1]]\n",
    "    else:\n",
    "        dic[f\"{df.iloc[i, 0]}\"].append(df.iloc[i, 1])\n",
    "\n",
    "# Using the created dictionary, list of dataframes created in order to be able to use loops effectively.\n",
    "dataframe_list = []\n",
    "for i in dic.keys():\n",
    "    dataframe_list.append(pd.DataFrame(dic[i], columns=[i]))  "
   ]
  },
  {
   "cell_type": "code",
   "execution_count": 7,
   "metadata": {},
   "outputs": [],
   "source": [
    "# Outlier check is done as seen below. Outliers has been replaced with upper or lower tresholds using functions defined above.\n",
    "for i in dataframe_list:\n",
    "    a = has_outliers(i, i.columns)\n",
    "    if a == []:\n",
    "        pass\n",
    "    else:\n",
    "        replace_with_thresholds(i, i.columns[0])"
   ]
  },
  {
   "cell_type": "code",
   "execution_count": 8,
   "metadata": {},
   "outputs": [],
   "source": [
    "# H0: there is no statistical meaningful difference between the ...\n",
    "# H1: ...there is a difference\n",
    "\n",
    "def ab_test(df1, df2):\n",
    "    \n",
    "    sh1 = shapiro(df1)\n",
    "    sh2 = shapiro(df2)\n",
    "    if sh1[1] > 0.05 and sh2[1] > 0.05:\n",
    "        head1 = df1.columns[0]\n",
    "        head2 = df2.columns[0]\n",
    "        lh = stats.levene(df1[head1], df2[head2])\n",
    "        if lh[1] > 0.05:\n",
    "            test_stat, pvalue = stats.ttest_ind(df1, df2, equal_var=True)\n",
    "            if pvalue < 0.05:\n",
    "                print(\"Hypothesis is rejected.\")\n",
    "            else:\n",
    "                print(\"Hypothesis is accepted.\")\n",
    "        else:\n",
    "            test_stat, pvalue = stats.ttest_ind(df1, df2, equal_var=False)\n",
    "            if pvalue < 0.05:\n",
    "                print(\"Hypothesis is rejected.\")\n",
    "            else:\n",
    "                print(\"Hypothesis is accepted.\")\n",
    "    else:\n",
    "        print(\"Non-parametric distribution!\")\n",
    "        test_stat, pvalue = stats.mannwhitneyu(df1, df2)\n",
    "        if pvalue < 0.05:\n",
    "            print(\"Hypothesis is rejected.\")\n",
    "        else:\n",
    "            print(\"Hypothesis is accepted.\")\n",
    "            \n",
    "    return pvalue\n",
    "            \n",
    "def combo_list(liste):\n",
    "    combos = []\n",
    "    for i in range(len(liste)-1):\n",
    "        for j in range(len(liste)-1):\n",
    "            if i != j+1 and (j+1, i) not in combos:\n",
    "                combos.append((i, j+1))\n",
    "    return combos"
   ]
  },
  {
   "cell_type": "code",
   "execution_count": 9,
   "metadata": {},
   "outputs": [
    {
     "data": {
      "text/plain": [
       "[(0, 1),\n",
       " (0, 2),\n",
       " (0, 3),\n",
       " (0, 4),\n",
       " (0, 5),\n",
       " (1, 2),\n",
       " (1, 3),\n",
       " (1, 4),\n",
       " (1, 5),\n",
       " (2, 3),\n",
       " (2, 4),\n",
       " (2, 5),\n",
       " (3, 4),\n",
       " (3, 5),\n",
       " (4, 5)]"
      ]
     },
     "execution_count": 9,
     "metadata": {},
     "output_type": "execute_result"
    }
   ],
   "source": [
    "combo = combo_list(dataframe_list)\n",
    "combo"
   ]
  },
  {
   "cell_type": "code",
   "execution_count": 10,
   "metadata": {},
   "outputs": [
    {
     "name": "stdout",
     "output_type": "stream",
     "text": [
      "\n",
      "\n",
      "Hypothesis check for the category id's: 489756 and 361254\n",
      "Non-parametric distribution!\n",
      "Hypothesis is rejected.\n",
      "\n",
      "\n",
      "Hypothesis check for the category id's: 489756 and 874521\n",
      "Non-parametric distribution!\n",
      "Hypothesis is rejected.\n",
      "\n",
      "\n",
      "Hypothesis check for the category id's: 489756 and 326584\n",
      "Non-parametric distribution!\n",
      "Hypothesis is rejected.\n",
      "\n",
      "\n",
      "Hypothesis check for the category id's: 489756 and 675201\n",
      "Non-parametric distribution!\n",
      "Hypothesis is rejected.\n",
      "\n",
      "\n",
      "Hypothesis check for the category id's: 489756 and 201436\n",
      "Non-parametric distribution!\n",
      "Hypothesis is rejected.\n",
      "\n",
      "\n",
      "Hypothesis check for the category id's: 361254 and 874521\n",
      "Non-parametric distribution!\n",
      "Hypothesis is rejected.\n",
      "\n",
      "\n",
      "Hypothesis check for the category id's: 361254 and 326584\n",
      "Non-parametric distribution!\n",
      "Hypothesis is rejected.\n",
      "\n",
      "\n",
      "Hypothesis check for the category id's: 361254 and 675201\n",
      "Non-parametric distribution!\n",
      "Hypothesis is accepted.\n",
      "\n",
      "\n",
      "Hypothesis check for the category id's: 361254 and 201436\n",
      "Non-parametric distribution!\n",
      "Hypothesis is accepted.\n",
      "\n",
      "\n",
      "Hypothesis check for the category id's: 874521 and 326584\n",
      "Non-parametric distribution!\n",
      "Hypothesis is rejected.\n",
      "\n",
      "\n",
      "Hypothesis check for the category id's: 874521 and 675201\n",
      "Non-parametric distribution!\n",
      "Hypothesis is accepted.\n",
      "\n",
      "\n",
      "Hypothesis check for the category id's: 874521 and 201436\n",
      "Non-parametric distribution!\n",
      "Hypothesis is accepted.\n",
      "\n",
      "\n",
      "Hypothesis check for the category id's: 326584 and 675201\n",
      "Non-parametric distribution!\n",
      "Hypothesis is rejected.\n",
      "\n",
      "\n",
      "Hypothesis check for the category id's: 326584 and 201436\n",
      "Non-parametric distribution!\n",
      "Hypothesis is rejected.\n",
      "\n",
      "\n",
      "Hypothesis check for the category id's: 675201 and 201436\n",
      "Non-parametric distribution!\n",
      "Hypothesis is accepted.\n"
     ]
    }
   ],
   "source": [
    "accepted = []\n",
    "rejected = []\n",
    "for i in combo:\n",
    "    print(f\"\\n\\nHypothesis check for the category id's: {category_id_list[i[0]]} and {category_id_list[i[1]]}\")\n",
    "    a = ab_test(dataframe_list[i[0]], dataframe_list[i[1]])\n",
    "    if a > 0.05:\n",
    "        accepted.append((category_id_list[i[0]], category_id_list[i[1]]))\n",
    "    else:\n",
    "        rejected.append((category_id_list[i[0]], category_id_list[i[1]]))"
   ]
  },
  {
   "cell_type": "code",
   "execution_count": 11,
   "metadata": {},
   "outputs": [
    {
     "data": {
      "text/plain": [
       "[(489756, 361254),\n",
       " (489756, 874521),\n",
       " (489756, 326584),\n",
       " (489756, 675201),\n",
       " (489756, 201436),\n",
       " (361254, 874521),\n",
       " (361254, 326584),\n",
       " (874521, 326584),\n",
       " (326584, 675201),\n",
       " (326584, 201436)]"
      ]
     },
     "execution_count": 11,
     "metadata": {},
     "output_type": "execute_result"
    }
   ],
   "source": [
    "# The list below shows the hypothesis results which were rejected, in this case shows the categories that are not the same statistically \n",
    "# in terms of their prices.\n",
    "rejected"
   ]
  },
  {
   "cell_type": "code",
   "execution_count": 12,
   "metadata": {},
   "outputs": [
    {
     "data": {
      "text/plain": [
       "[(361254, 675201),\n",
       " (361254, 201436),\n",
       " (874521, 675201),\n",
       " (874521, 201436),\n",
       " (675201, 201436)]"
      ]
     },
     "execution_count": 12,
     "metadata": {},
     "output_type": "execute_result"
    }
   ],
   "source": [
    "# The list below shows the hypothesis results which were accepted, in this case shows the categories that are the same statistically \n",
    "# in terms their prices.\n",
    "accepted"
   ]
  },
  {
   "cell_type": "code",
   "execution_count": 13,
   "metadata": {},
   "outputs": [
    {
     "name": "stdout",
     "output_type": "stream",
     "text": [
      "489756    41.876341\n",
      "dtype: float64\n",
      "361254    34.055929\n",
      "dtype: float64\n",
      "874521    35.823835\n",
      "dtype: float64\n",
      "326584    33.360228\n",
      "dtype: float64\n",
      "675201    35.522887\n",
      "dtype: float64\n",
      "201436    34.549115\n",
      "dtype: float64\n"
     ]
    }
   ],
   "source": [
    "for i in dataframe_list:\n",
    "    print(i.mean())"
   ]
  },
  {
   "cell_type": "markdown",
   "metadata": {},
   "source": [
    "items with the id of 489756 are statistically and mathematically different from the items with other id numbers. \n",
    "It's price could be evaluated using only by its own values.\n",
    "\n",
    "items which have id numbers of 201436, 675201, 874521 statistically always the same. So their price can be evaluated together.\n",
    "\n",
    "items which have id number of 361254 can be evaluated with either 675201 or 201436 or even on its own.\n",
    "\n",
    "items which have id number of 326584 are statistically and mathematically different from the items with other id numbers. \n",
    "It's price could be evaluated using only by its own values."
   ]
  },
  {
   "cell_type": "code",
   "execution_count": 14,
   "metadata": {},
   "outputs": [
    {
     "name": "stdout",
     "output_type": "stream",
     "text": [
      "(array([41.25646306]), array([42.49621953]))\n"
     ]
    }
   ],
   "source": [
    "# Confidence interval of price for the items with the id of 489756\n",
    "print(sms.DescrStatsW(dataframe_list[0]).tconfint_mean())"
   ]
  },
  {
   "cell_type": "code",
   "execution_count": 15,
   "metadata": {},
   "outputs": [
    {
     "data": {
      "text/plain": [
       "array([489756, 361254, 874521, 326584, 675201, 201436], dtype=int64)"
      ]
     },
     "execution_count": 15,
     "metadata": {},
     "output_type": "execute_result"
    }
   ],
   "source": [
    "category_id_list"
   ]
  },
  {
   "cell_type": "code",
   "execution_count": 16,
   "metadata": {},
   "outputs": [
    {
     "name": "stdout",
     "output_type": "stream",
     "text": [
      "(array([35.29936696]), array([36.01482213]))\n"
     ]
    }
   ],
   "source": [
    "# Confidence interval of price for the items with the id's of 201436, 675201, 874521\n",
    "a = np.array(dataframe_list[5][\"201436\"])    \n",
    "b = np.array(dataframe_list[4][\"675201\"]) \n",
    "c = np.array(dataframe_list[2][\"874521\"])\n",
    "df_1 = pd.DataFrame(np.concatenate((a, b, c), axis=None))\n",
    "print(sms.DescrStatsW(df_1).tconfint_mean())"
   ]
  },
  {
   "cell_type": "code",
   "execution_count": 17,
   "metadata": {},
   "outputs": [
    {
     "name": "stdout",
     "output_type": "stream",
     "text": [
      "(array([33.82469425]), array([34.28716354]))\n"
     ]
    }
   ],
   "source": [
    "# Confidence interval of price for the items with id of 361254\n",
    "print(sms.DescrStatsW(dataframe_list[1]).tconfint_mean())"
   ]
  },
  {
   "cell_type": "code",
   "execution_count": 18,
   "metadata": {},
   "outputs": [
    {
     "name": "stdout",
     "output_type": "stream",
     "text": [
      "(array([32.66450972]), array([34.05594561]))\n"
     ]
    }
   ],
   "source": [
    "# Confidence interval of price for the items with id of 326584\n",
    "print(sms.DescrStatsW(dataframe_list[3]).tconfint_mean())"
   ]
  },
  {
   "cell_type": "code",
   "execution_count": null,
   "metadata": {},
   "outputs": [],
   "source": []
  }
 ],
 "metadata": {
  "kernelspec": {
   "display_name": "Python 3",
   "language": "python",
   "name": "python3"
  },
  "language_info": {
   "codemirror_mode": {
    "name": "ipython",
    "version": 3
   },
   "file_extension": ".py",
   "mimetype": "text/x-python",
   "name": "python",
   "nbconvert_exporter": "python",
   "pygments_lexer": "ipython3",
   "version": "3.7.9"
  }
 },
 "nbformat": 4,
 "nbformat_minor": 4
}
